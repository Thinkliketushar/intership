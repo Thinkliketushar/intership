{
 "cells": [
  {
   "cell_type": "raw",
   "id": "664c5554",
   "metadata": {},
   "source": [
    "SERVICE:- \n",
    "    1. Body checkup with blood sample with online offering\n",
    "    2. Device:- diabetes, blood pressure, vitamin deficiency checkup"
   ]
  },
  {
   "cell_type": "markdown",
   "id": "cd7bc7e9",
   "metadata": {},
   "source": [
    "# Diabetes checkup Device"
   ]
  },
  {
   "cell_type": "raw",
   "id": "e072d536",
   "metadata": {},
   "source": [
    "- TARGET AGE > 45 \n",
    "    0 Percentage of Men who have - Diabetes- 20 = 8%\n",
    "    20 - 30 = 4%\n",
    "    30 - 45 = 8%\n",
    "    45 - 60 = 22%\n",
    "    60 <  - = 30%\n",
    " - STATE:- kERALA, Tamil nadu, goa tripura, delhi west bengal\n",
    " - Target men and urban area"
   ]
  },
  {
   "cell_type": "raw",
   "id": "46863e51",
   "metadata": {},
   "source": [
    "  Lets take some disease according to gender with top states are suffering.\n",
    "  \n",
    "  women diabetes:- Andaman nicobar island, kerala, tamil nadu, goa and lakshadweep\n",
    "  women Asthma:- Andaman nicobar island, tripura, tamil nadu, telengana and west bengal\n",
    "  Women Goitre or any other Thyroid Disorder :- kerala, jammu kashmir, chandigarh, laskshadweep, telengana\n",
    "  women Any heart disease:- jammu and kashmir, maghalaya, mizrom, tripura, manipur\n",
    "  women cancer:- Bihar, maghalaya, tamil nadu, karnataka mizoram\n",
    "  \n",
    "  Men Diabetes:- kerala, maghalaya, andhra pradesh, tamil nadu \n",
    "  Men asthama:- tamil nadu, odisha , nagaland, west bangal\n",
    "  Men who have - Goitre or any other thyroid disorder:- Tamil nadu, meghalaya, jammu and kashmir, chandigarh, jharkhand\n",
    "  Men heath disease:- lakshadweep, tripura, mizrom, jammu kashmir, tamil nadu\n",
    "  Men cancer:- Himachal pardesh, tamil nadu, jharkhand, andaman and nicobar island"
   ]
  },
  {
   "cell_type": "raw",
   "id": "a107108e",
   "metadata": {},
   "source": [
    "Tamil nadu is good state for startup of bio tech."
   ]
  },
  {
   "cell_type": "raw",
   "id": "3dec66aa",
   "metadata": {},
   "source": [
    "WE also add prediction but it's not genrate revenew"
   ]
  },
  {
   "cell_type": "code",
   "execution_count": null,
   "id": "4744679d",
   "metadata": {},
   "outputs": [],
   "source": []
  }
 ],
 "metadata": {
  "kernelspec": {
   "display_name": "Python 3 (ipykernel)",
   "language": "python",
   "name": "python3"
  },
  "language_info": {
   "codemirror_mode": {
    "name": "ipython",
    "version": 3
   },
   "file_extension": ".py",
   "mimetype": "text/x-python",
   "name": "python",
   "nbconvert_exporter": "python",
   "pygments_lexer": "ipython3",
   "version": "3.8.10"
  }
 },
 "nbformat": 4,
 "nbformat_minor": 5
}
